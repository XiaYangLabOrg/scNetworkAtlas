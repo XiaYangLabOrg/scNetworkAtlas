{
 "cells": [
  {
   "cell_type": "code",
   "execution_count": 1,
   "metadata": {},
   "outputs": [],
   "source": [
    "import os\n",
    "import numpy as np\n",
    "import pandas as pd\n",
    "import scipy.sparse\n",
    "from scipy.sparse import load_npz \n",
    "import warnings\n",
    "warnings.filterwarnings(\"ignore\")\n",
    "\n",
    "import sys\n",
    "from scing import supercells as pb\n",
    "import scanpy as sc\n",
    "import argparse"
   ]
  },
  {
   "cell_type": "code",
   "execution_count": 2,
   "metadata": {},
   "outputs": [],
   "source": [
    "os.chdir(\"/u/home/s/skikuchi/project-xyang123/scNetworkAtlas/mouse_Allen_SmartSeq\")"
   ]
  },
  {
   "cell_type": "code",
   "execution_count": 3,
   "metadata": {},
   "outputs": [],
   "source": [
    "dataset_name = \"tissue_adata/SupplementalSomatosensory.Gustatory.Visceral.AgranularInsularPosteriorCortex/SupplementalSomatosensory.Gustatory.Visceral.AgranularInsularPosteriorCortex_astrocyte.npz\"\n",
    "out_dir = \"supercells\"\n",
    "\n",
    "if dataset_name.endswith('.npz'):\n",
    "    humanMATRIX = load_npz(dataset_name)\n",
    "\n",
    "    #create outfile as a variable to store the cell type name\n",
    "    outfile = dataset_name.split(\"/\")[-1].split(\".npz\")[0]\n",
    "\n",
    "    #re-assemble the path to the txt file that contains the names of the cell type's expressed genes from the HCA pre-processing\n",
    "    genes = \"/\".join(dataset_name.split(\"/\")[:-1]) + \"/\" + str(outfile)+ \"_genes.txt\"\n",
    "\n",
    "    adata = sc.AnnData(np.asarray(humanMATRIX.todense())).T\n",
    "\n",
    "    #match the gene names to their corresponding expression data\n",
    "    adata.var.index = pd.read_csv(genes, header = None).to_numpy().ravel()\n",
    "    adata.var_names_make_unique()"
   ]
  },
  {
   "cell_type": "code",
   "execution_count": 5,
   "metadata": {},
   "outputs": [
    {
     "data": {
      "text/plain": [
       "AnnData object with n_obs × n_vars = 148 × 20489"
      ]
     },
     "execution_count": 5,
     "metadata": {},
     "output_type": "execute_result"
    }
   ],
   "source": [
    "adata"
   ]
  },
  {
   "cell_type": "code",
   "execution_count": 4,
   "metadata": {},
   "outputs": [
    {
     "name": "stdout",
     "output_type": "stream",
     "text": [
      "preprocessing data...\n",
      "finding optimal resolution...\n",
      "There are  148  supercells\n",
      "merging cells...\n"
     ]
    },
    {
     "data": {
      "text/plain": [
       "'supercells/SupplementalSomatosensory.Gustatory.Visceral.AgranularInsularPosteriorCortex_astrocyte.h5ad'"
      ]
     },
     "execution_count": 4,
     "metadata": {},
     "output_type": "execute_result"
    }
   ],
   "source": [
    "adata_merged = pb.supercell_pipeline(adata,\n",
    "                                ngenes=2000,\n",
    "                                npcs=20,\n",
    "                                ncell=500,\n",
    "                                verbose=True)\n",
    "f'{out_dir}/{outfile}.h5ad'\n",
    "#os.makedirs(out_dir,exist_ok=True)\n",
    "#adata_merged.write(f'{out_dir}/{outfile}.h5ad')"
   ]
  },
  {
   "cell_type": "code",
   "execution_count": null,
   "metadata": {},
   "outputs": [],
   "source": []
  },
  {
   "cell_type": "markdown",
   "metadata": {},
   "source": []
  }
 ],
 "metadata": {
  "kernelspec": {
   "display_name": "kaggle_new",
   "language": "python",
   "name": "kaggle_new"
  }
 },
 "nbformat": 4,
 "nbformat_minor": 2
}
